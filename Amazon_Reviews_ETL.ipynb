{
  "nbformat": 4,
  "nbformat_minor": 0,
  "metadata": {
    "colab": {
      "name": "Amazon_Reviews_ETL",
      "provenance": [],
      "collapsed_sections": []
    },
    "kernelspec": {
      "display_name": "PythonData",
      "language": "python",
      "name": "pythondata"
    },
    "language_info": {
      "codemirror_mode": {
        "name": "ipython",
        "version": 3
      },
      "file_extension": ".py",
      "mimetype": "text/x-python",
      "name": "python",
      "nbconvert_exporter": "python",
      "pygments_lexer": "ipython3",
      "version": "3.7.7"
    },
    "nteract": {
      "version": "0.12.3"
    }
  },
  "cells": [
    {
      "cell_type": "code",
      "metadata": {
        "id": "V58rxea0HqSa",
        "colab": {
          "base_uri": "https://localhost:8080/"
        },
        "outputId": "50994709-6cc5-402f-cf13-c94a868a38cf"
      },
      "source": [
        "!pip install py4j\n",
        "\n",
        "import os\n",
        "# Find the latest version of spark 2.0  from http://www-us.apache.org/dist/spark/ and enter as the spark version\n",
        "# For example:\n",
        "# spark_version = 'spark-3.0.0'\n",
        "spark_version = 'spark-3.0.1'\n",
        "os.environ['SPARK_VERSION']=spark_version\n",
        "\n",
        "# Install Spark and Java\n",
        "!apt-get update\n",
        "!apt-get install openjdk-11-jdk-headless -qq > /dev/null\n",
        "!wget -q http://www-us.apache.org/dist/spark/$SPARK_VERSION/$SPARK_VERSION-bin-hadoop2.7.tgz\n",
        "!tar xf $SPARK_VERSION-bin-hadoop2.7.tgz\n",
        "!pip install -q findspark\n",
        "\n",
        "# Set Environment Variables\n",
        "import os\n",
        "os.environ[\"JAVA_HOME\"] = \"/usr/lib/jvm/java-11-openjdk-amd64\"\n",
        "os.environ[\"SPARK_HOME\"] = f\"/content/{spark_version}-bin-hadoop2.7\"\n",
        "\n",
        "# Start a SparkSession\n",
        "import findspark\n",
        "findspark.init()"
      ],
      "execution_count": null,
      "outputs": [
        {
          "output_type": "stream",
          "text": [
            "Collecting py4j\n",
            "\u001b[?25l  Downloading https://files.pythonhosted.org/packages/30/42/25ad191f311fcdb38b750d49de167abd535e37a144e730a80d7c439d1751/py4j-0.10.9.1-py2.py3-none-any.whl (198kB)\n",
            "\u001b[K     |████████████████████████████████| 204kB 4.1MB/s \n",
            "\u001b[?25hInstalling collected packages: py4j\n",
            "Successfully installed py4j-0.10.9.1\n",
            "Ign:1 https://developer.download.nvidia.com/compute/cuda/repos/ubuntu1804/x86_64  InRelease\n",
            "Get:2 https://cloud.r-project.org/bin/linux/ubuntu bionic-cran40/ InRelease [3,626 B]\n",
            "Hit:3 http://archive.ubuntu.com/ubuntu bionic InRelease\n",
            "Get:4 http://security.ubuntu.com/ubuntu bionic-security InRelease [88.7 kB]\n",
            "Get:5 http://ppa.launchpad.net/c2d4u.team/c2d4u4.0+/ubuntu bionic InRelease [15.9 kB]\n",
            "Ign:6 https://developer.download.nvidia.com/compute/machine-learning/repos/ubuntu1804/x86_64  InRelease\n",
            "Get:7 https://developer.download.nvidia.com/compute/cuda/repos/ubuntu1804/x86_64  Release [697 B]\n",
            "Hit:8 https://developer.download.nvidia.com/compute/machine-learning/repos/ubuntu1804/x86_64  Release\n",
            "Get:9 https://developer.download.nvidia.com/compute/cuda/repos/ubuntu1804/x86_64  Release.gpg [836 B]\n",
            "Get:10 http://archive.ubuntu.com/ubuntu bionic-updates InRelease [88.7 kB]\n",
            "Hit:11 http://ppa.launchpad.net/cran/libgit2/ubuntu bionic InRelease\n",
            "Get:12 https://cloud.r-project.org/bin/linux/ubuntu bionic-cran40/ Packages [44.8 kB]\n",
            "Get:13 http://archive.ubuntu.com/ubuntu bionic-backports InRelease [74.6 kB]\n",
            "Hit:14 http://ppa.launchpad.net/graphics-drivers/ppa/ubuntu bionic InRelease\n",
            "Ign:16 https://developer.download.nvidia.com/compute/cuda/repos/ubuntu1804/x86_64  Packages\n",
            "Get:16 https://developer.download.nvidia.com/compute/cuda/repos/ubuntu1804/x86_64  Packages [552 kB]\n",
            "Get:17 http://ppa.launchpad.net/c2d4u.team/c2d4u4.0+/ubuntu bionic/main Sources [1,726 kB]\n",
            "Get:18 http://archive.ubuntu.com/ubuntu bionic-updates/main amd64 Packages [2,352 kB]\n",
            "Get:19 http://ppa.launchpad.net/c2d4u.team/c2d4u4.0+/ubuntu bionic/main amd64 Packages [883 kB]\n",
            "Get:20 http://archive.ubuntu.com/ubuntu bionic-updates/universe amd64 Packages [2,157 kB]\n",
            "Fetched 7,988 kB in 3s (2,645 kB/s)\n",
            "Reading package lists... Done\n"
          ],
          "name": "stdout"
        }
      ]
    },
    {
      "cell_type": "code",
      "metadata": {
        "id": "_xKwTpATHqSe",
        "colab": {
          "base_uri": "https://localhost:8080/"
        },
        "outputId": "6f821170-f9bd-4301-f4ac-85acd21cb5f0"
      },
      "source": [
        "# Download the Postgres driver that will allow Spark to interact with Postgres.\n",
        "!wget https://jdbc.postgresql.org/download/postgresql-42.2.16.jar"
      ],
      "execution_count": null,
      "outputs": [
        {
          "output_type": "stream",
          "text": [
            "--2021-02-07 02:32:24--  https://jdbc.postgresql.org/download/postgresql-42.2.16.jar\n",
            "Resolving jdbc.postgresql.org (jdbc.postgresql.org)... 72.32.157.228, 2001:4800:3e1:1::228\n",
            "Connecting to jdbc.postgresql.org (jdbc.postgresql.org)|72.32.157.228|:443... connected.\n",
            "HTTP request sent, awaiting response... 200 OK\n",
            "Length: 1002883 (979K) [application/java-archive]\n",
            "Saving to: ‘postgresql-42.2.16.jar’\n",
            "\n",
            "postgresql-42.2.16. 100%[===================>] 979.38K  --.-KB/s    in 0.1s    \n",
            "\n",
            "2021-02-07 02:32:24 (6.56 MB/s) - ‘postgresql-42.2.16.jar’ saved [1002883/1002883]\n",
            "\n"
          ],
          "name": "stdout"
        }
      ]
    },
    {
      "cell_type": "code",
      "metadata": {
        "id": "MMqDAjVS0KN9"
      },
      "source": [
        "from pyspark.sql import SparkSession\n",
        "spark = SparkSession.builder.appName(\"BigData-Challenge\").config(\"spark.driver.extraClassPath\",\"/content/postgresql-42.2.16.jar\").getOrCreate()"
      ],
      "execution_count": null,
      "outputs": []
    },
    {
      "cell_type": "markdown",
      "metadata": {
        "id": "cyBsySGuY-9V"
      },
      "source": [
        "### Load Amazon Data into Spark DataFrame"
      ]
    },
    {
      "cell_type": "code",
      "metadata": {
        "id": "CtCmBhQJY-9Z",
        "colab": {
          "base_uri": "https://localhost:8080/"
        },
        "outputId": "1c532459-6cbf-4085-fe73-6d8b630b5096"
      },
      "source": [
        "from pyspark import SparkFiles\n",
        "url = \"https://s3.amazonaws.com/amazon-reviews-pds/tsv/amazon_reviews_us_Digital_Software_v1_00.tsv.gz\"\n",
        "spark.sparkContext.addFile(url)\n",
        "df = spark.read.option(\"encoding\", \"UTF-8\").csv(SparkFiles.get(\"\"), sep=\"\\t\", header=True, inferSchema=True)\n",
        "df.show()"
      ],
      "execution_count": null,
      "outputs": [
        {
          "output_type": "stream",
          "text": [
            "+-----------+-----------+--------------+----------+--------------+--------------------+----------------+-----------+-------------+-----------+----+-----------------+--------------------+--------------------+-----------+\n",
            "|marketplace|customer_id|     review_id|product_id|product_parent|       product_title|product_category|star_rating|helpful_votes|total_votes|vine|verified_purchase|     review_headline|         review_body|review_date|\n",
            "+-----------+-----------+--------------+----------+--------------+--------------------+----------------+-----------+-------------+-----------+----+-----------------+--------------------+--------------------+-----------+\n",
            "|         US|   17747349|R2EI7QLPK4LF7U|B00U7LCE6A|     106182406|CCleaner Free [Do...|Digital_Software|          4|            0|          0|   N|                Y|          Four Stars|      So far so good| 2015-08-31|\n",
            "|         US|   10956619|R1W5OMFK1Q3I3O|B00HRJMOM4|     162269768|ResumeMaker Profe...|Digital_Software|          3|            0|          0|   N|                Y|         Three Stars|Needs a little mo...| 2015-08-31|\n",
            "|         US|   13132245| RPZWSYWRP92GI|B00P31G9PQ|     831433899|Amazon Drive Desk...|Digital_Software|          1|            1|          2|   N|                Y|            One Star|      Please cancel.| 2015-08-31|\n",
            "|         US|   35717248|R2WQWM04XHD9US|B00FGDEPDY|     991059534|Norton Internet S...|Digital_Software|          5|            0|          0|   N|                Y|  Works as Expected!|  Works as Expected!| 2015-08-31|\n",
            "|         US|   17710652|R1WSPK2RA2PDEF|B00FZ0FK0U|     574904556|SecureAnywhere In...|Digital_Software|          4|            1|          2|   N|                Y|Great antivirus. ...|I've had Webroot ...| 2015-08-31|\n",
            "|         US|   42392705|R11JVGRZRHTDAS|B004KPKSRQ|     306022575|Pc Matic Performa...|Digital_Software|          5|            4|          4|   N|                N|Great choice in s...|EXCELLENT softwar...| 2015-08-31|\n",
            "|         US|   52845868|R2B8468OKXXYE2|B00B1TFNTW|      54873662|Microsoft OneNote...|Digital_Software|          1|            1|          1|   N|                N|Munch, munch, mun...|The variations cr...| 2015-08-31|\n",
            "|         US|   15696503|R2HGGCCZSSNUCB|B00M9GTJLY|     103182180|Intuit Quicken Re...|Digital_Software|          1|            0|          0|   N|                Y|Horrible! Would n...|Horrible!  Would ...| 2015-08-31|\n",
            "|         US|    9723928| REEE4LHSVPRV9|B00H9A60O4|     608720080|Avast Free Antivi...|Digital_Software|          1|            0|          0|   N|                Y|            One Star|     Waste of time .| 2015-08-31|\n",
            "|         US|   23522877|R25OMUUILFFHI9|B008XAXAC4|      87969525|Apache OpenOffice...|Digital_Software|          5|            0|          0|   N|                Y|Very good suite o...|Work as easy as o...| 2015-08-31|\n",
            "|         US|   17022093|R2966PB8UBD5BM|B00MHZ6Z64|     249773946|     Norton Security|Digital_Software|          5|            0|          0|   N|                Y|          Five Stars|    Works perfectly!| 2015-08-31|\n",
            "|         US|   11635690|R1OU91L2G5H6H1|B00OPCQ70Q|     956532818|Corel Painter Ess...|Digital_Software|          1|            0|          2|   N|                Y|            One Star|Will not open on ...| 2015-08-31|\n",
            "|         US|   50349059|R3M6YQVMXWGTR6|B00MHZ71G2|       8655796|Norton Security w...|Digital_Software|          5|            0|          0|   N|                Y|Purchased this on...|Purchased this on...| 2015-08-31|\n",
            "|         US|     450121|R2M8VZGO4BFN9J|B00O8J0W6G|       7338419|Movavi Screen Cap...|Digital_Software|          1|            0|          1|   N|                Y|            One Star|God awful and did...| 2015-08-31|\n",
            "|         US|    2320642|R3UH0MJKIJ4VLP|B00NMPZCH6|     985055699|Photoshop Element...|Digital_Software|          3|            2|          3|   N|                Y|         Three Stars|I think its compl...| 2015-08-31|\n",
            "|         US|   16089737|R3E906WYGZVKWO|B012P5SJNC|     490456974|LearnSmart for Th...|Digital_Software|          1|            2|          2|   N|                Y|Will not work for...|You can purchase ...| 2015-08-31|\n",
            "|         US|   14082044|R1Z3N8UA5YQOV2|B00V9ZPIXY|      57097904|Fotor for Windows...|Digital_Software|          2|            0|          0|   N|                Y|           Two Stars|    it wont download| 2015-08-31|\n",
            "|         US|   18246272|R2VH10XSOR1QHF|B00LU2XHAC|     962800663|Kaspersky Anti-Vi...|Digital_Software|          5|            0|          0|   N|                Y|          Five Stars|I have been using...| 2015-08-31|\n",
            "|         US|   31837971|R1KCPJ8UASZESF|B0068TJOSQ|     154476766|H&R Block At Home...|Digital_Software|          5|            0|          0|   N|                Y|This was a Great ...|This was a Great ...| 2015-08-31|\n",
            "|         US|   12631500| RWTF87EKV4DYO|B00SGYWM80|     780881648| onlineTV [Download]|Digital_Software|          3|            0|          0|   N|                Y|         Three Stars|did not use,inter...| 2015-08-31|\n",
            "+-----------+-----------+--------------+----------+--------------+--------------------+----------------+-----------+-------------+-----------+----+-----------------+--------------------+--------------------+-----------+\n",
            "only showing top 20 rows\n",
            "\n"
          ],
          "name": "stdout"
        }
      ]
    },
    {
      "cell_type": "markdown",
      "metadata": {
        "id": "2yUSe55VY-9t"
      },
      "source": [
        "### Create DataFrames to match tables"
      ]
    },
    {
      "cell_type": "code",
      "metadata": {
        "id": "C8REmY1aY-9u",
        "colab": {
          "base_uri": "https://localhost:8080/"
        },
        "outputId": "33acd61c-5e52-4ac3-8bc7-ca1f2446129f"
      },
      "source": [
        "from pyspark.sql.functions import to_date\n",
        "# Read in the Review dataset as a DataFrame\n",
        "df.show()"
      ],
      "execution_count": null,
      "outputs": [
        {
          "output_type": "stream",
          "text": [
            "+-----------+-----------+--------------+----------+--------------+--------------------+----------------+-----------+-------------+-----------+----+-----------------+--------------------+--------------------+-----------+\n",
            "|marketplace|customer_id|     review_id|product_id|product_parent|       product_title|product_category|star_rating|helpful_votes|total_votes|vine|verified_purchase|     review_headline|         review_body|review_date|\n",
            "+-----------+-----------+--------------+----------+--------------+--------------------+----------------+-----------+-------------+-----------+----+-----------------+--------------------+--------------------+-----------+\n",
            "|         US|   17747349|R2EI7QLPK4LF7U|B00U7LCE6A|     106182406|CCleaner Free [Do...|Digital_Software|          4|            0|          0|   N|                Y|          Four Stars|      So far so good| 2015-08-31|\n",
            "|         US|   10956619|R1W5OMFK1Q3I3O|B00HRJMOM4|     162269768|ResumeMaker Profe...|Digital_Software|          3|            0|          0|   N|                Y|         Three Stars|Needs a little mo...| 2015-08-31|\n",
            "|         US|   13132245| RPZWSYWRP92GI|B00P31G9PQ|     831433899|Amazon Drive Desk...|Digital_Software|          1|            1|          2|   N|                Y|            One Star|      Please cancel.| 2015-08-31|\n",
            "|         US|   35717248|R2WQWM04XHD9US|B00FGDEPDY|     991059534|Norton Internet S...|Digital_Software|          5|            0|          0|   N|                Y|  Works as Expected!|  Works as Expected!| 2015-08-31|\n",
            "|         US|   17710652|R1WSPK2RA2PDEF|B00FZ0FK0U|     574904556|SecureAnywhere In...|Digital_Software|          4|            1|          2|   N|                Y|Great antivirus. ...|I've had Webroot ...| 2015-08-31|\n",
            "|         US|   42392705|R11JVGRZRHTDAS|B004KPKSRQ|     306022575|Pc Matic Performa...|Digital_Software|          5|            4|          4|   N|                N|Great choice in s...|EXCELLENT softwar...| 2015-08-31|\n",
            "|         US|   52845868|R2B8468OKXXYE2|B00B1TFNTW|      54873662|Microsoft OneNote...|Digital_Software|          1|            1|          1|   N|                N|Munch, munch, mun...|The variations cr...| 2015-08-31|\n",
            "|         US|   15696503|R2HGGCCZSSNUCB|B00M9GTJLY|     103182180|Intuit Quicken Re...|Digital_Software|          1|            0|          0|   N|                Y|Horrible! Would n...|Horrible!  Would ...| 2015-08-31|\n",
            "|         US|    9723928| REEE4LHSVPRV9|B00H9A60O4|     608720080|Avast Free Antivi...|Digital_Software|          1|            0|          0|   N|                Y|            One Star|     Waste of time .| 2015-08-31|\n",
            "|         US|   23522877|R25OMUUILFFHI9|B008XAXAC4|      87969525|Apache OpenOffice...|Digital_Software|          5|            0|          0|   N|                Y|Very good suite o...|Work as easy as o...| 2015-08-31|\n",
            "|         US|   17022093|R2966PB8UBD5BM|B00MHZ6Z64|     249773946|     Norton Security|Digital_Software|          5|            0|          0|   N|                Y|          Five Stars|    Works perfectly!| 2015-08-31|\n",
            "|         US|   11635690|R1OU91L2G5H6H1|B00OPCQ70Q|     956532818|Corel Painter Ess...|Digital_Software|          1|            0|          2|   N|                Y|            One Star|Will not open on ...| 2015-08-31|\n",
            "|         US|   50349059|R3M6YQVMXWGTR6|B00MHZ71G2|       8655796|Norton Security w...|Digital_Software|          5|            0|          0|   N|                Y|Purchased this on...|Purchased this on...| 2015-08-31|\n",
            "|         US|     450121|R2M8VZGO4BFN9J|B00O8J0W6G|       7338419|Movavi Screen Cap...|Digital_Software|          1|            0|          1|   N|                Y|            One Star|God awful and did...| 2015-08-31|\n",
            "|         US|    2320642|R3UH0MJKIJ4VLP|B00NMPZCH6|     985055699|Photoshop Element...|Digital_Software|          3|            2|          3|   N|                Y|         Three Stars|I think its compl...| 2015-08-31|\n",
            "|         US|   16089737|R3E906WYGZVKWO|B012P5SJNC|     490456974|LearnSmart for Th...|Digital_Software|          1|            2|          2|   N|                Y|Will not work for...|You can purchase ...| 2015-08-31|\n",
            "|         US|   14082044|R1Z3N8UA5YQOV2|B00V9ZPIXY|      57097904|Fotor for Windows...|Digital_Software|          2|            0|          0|   N|                Y|           Two Stars|    it wont download| 2015-08-31|\n",
            "|         US|   18246272|R2VH10XSOR1QHF|B00LU2XHAC|     962800663|Kaspersky Anti-Vi...|Digital_Software|          5|            0|          0|   N|                Y|          Five Stars|I have been using...| 2015-08-31|\n",
            "|         US|   31837971|R1KCPJ8UASZESF|B0068TJOSQ|     154476766|H&R Block At Home...|Digital_Software|          5|            0|          0|   N|                Y|This was a Great ...|This was a Great ...| 2015-08-31|\n",
            "|         US|   12631500| RWTF87EKV4DYO|B00SGYWM80|     780881648| onlineTV [Download]|Digital_Software|          3|            0|          0|   N|                Y|         Three Stars|did not use,inter...| 2015-08-31|\n",
            "+-----------+-----------+--------------+----------+--------------+--------------------+----------------+-----------+-------------+-----------+----+-----------------+--------------------+--------------------+-----------+\n",
            "only showing top 20 rows\n",
            "\n"
          ],
          "name": "stdout"
        }
      ]
    },
    {
      "cell_type": "code",
      "metadata": {
        "id": "B0TESUDRY-90",
        "colab": {
          "base_uri": "https://localhost:8080/"
        },
        "outputId": "3100cc94-5751-49ca-9d22-78ebb017620f"
      },
      "source": [
        "# Create the customers_table DataFrame\n",
        "customers_df = df.groupby(\"customer_id\").agg({\"customer_id\":'count'}).withColumnRenamed(\"count(customer_id)\", \"customer_count\")\n",
        "customers_df.show()"
      ],
      "execution_count": 21,
      "outputs": [
        {
          "output_type": "stream",
          "text": [
            "+-----------+--------------+\n",
            "|customer_id|customer_count|\n",
            "+-----------+--------------+\n",
            "|   46639223|             1|\n",
            "|   50407297|             1|\n",
            "|   52707015|             1|\n",
            "|   21817779|             1|\n",
            "|     178254|             1|\n",
            "|    1442229|             1|\n",
            "|   12811624|             1|\n",
            "|   40840841|             1|\n",
            "|   48319420|             1|\n",
            "|   16205135|             1|\n",
            "|   12115907|             1|\n",
            "|   30190304|             1|\n",
            "|   43013424|             1|\n",
            "|   51495952|             1|\n",
            "|   16558777|             1|\n",
            "|   53013109|             2|\n",
            "|   50065664|             1|\n",
            "|    3534576|             1|\n",
            "|   36456998|             1|\n",
            "|   31609314|             1|\n",
            "+-----------+--------------+\n",
            "only showing top 20 rows\n",
            "\n"
          ],
          "name": "stdout"
        }
      ]
    },
    {
      "cell_type": "code",
      "metadata": {
        "id": "4FwXA6UvY-96",
        "colab": {
          "base_uri": "https://localhost:8080/"
        },
        "outputId": "bdf54a1f-889a-4734-b398-17c700b3c6f6"
      },
      "source": [
        "# Create the products_table DataFrame and drop duplicates. \n",
        "products_df = df.select([\"product_id\", \"product_title\"]).drop_duplicates()\n",
        "products_df.show()"
      ],
      "execution_count": 25,
      "outputs": [
        {
          "output_type": "stream",
          "text": [
            "+----------+--------------------+\n",
            "|product_id|       product_title|\n",
            "+----------+--------------------+\n",
            "|B00BSDZRTC|Office Suite [Dow...|\n",
            "|B00E7XA542|QuickBooks 2014 f...|\n",
            "|B00SG4YZC6|Power2Go 10 Delux...|\n",
            "|B008DXM7RK|YourSafetynet hom...|\n",
            "|B009H6ERAC|        Rostta Stone|\n",
            "|B00M9H6RJ0|MAGIX Audio & Mus...|\n",
            "|B00PRJ4IBG|HyperSnap screen ...|\n",
            "|B007SOLPF0|Math Coloring Boo...|\n",
            "|B00JAQQANG|openCanvas 5.5 [D...|\n",
            "|B00CQ8SXOO|Volume Repair [Do...|\n",
            "|B0092T30G6|Innovative Knowle...|\n",
            "|B007JYTWC2|Kitt GPS Voice fo...|\n",
            "|B005UHJYYQ|Internet Security...|\n",
            "|B003ZK51XS|Quicken Rental Pr...|\n",
            "|B005S4Z2PQ|Home Designer Int...|\n",
            "|B004GJWZNG|Charts and Graphs...|\n",
            "|B00W63HQLA|Doxillion Documen...|\n",
            "|B005S4Y13K|TurboTax Deluxe F...|\n",
            "|B00IUSWBBU|Anime Studio Debu...|\n",
            "|B009H6FIOQ|        Rostta Stone|\n",
            "+----------+--------------------+\n",
            "only showing top 20 rows\n",
            "\n"
          ],
          "name": "stdout"
        }
      ]
    },
    {
      "cell_type": "code",
      "metadata": {
        "id": "MkqyCuNQY-9-",
        "colab": {
          "base_uri": "https://localhost:8080/"
        },
        "outputId": "f2ee8bf5-116f-4b49-bbd4-719132f18ef2"
      },
      "source": [
        "# Create the review_id_table DataFrame. \n",
        "# Convert the 'review_date' column to a date datatype with to_date(\"review_date\", 'yyyy-MM-dd').alias(\"review_date\")\n",
        "review_id_df = df.select([\"review_id\",\"customer_id\",\"product_id\",\"product_parent\", to_date(\"review_date\", 'yyyy-MM-dd').alias(\"review_date\")])\n",
        "review_id_df.show()"
      ],
      "execution_count": 28,
      "outputs": [
        {
          "output_type": "stream",
          "text": [
            "+--------------+-----------+----------+--------------+-----------+\n",
            "|     review_id|customer_id|product_id|product_parent|review_date|\n",
            "+--------------+-----------+----------+--------------+-----------+\n",
            "|R2EI7QLPK4LF7U|   17747349|B00U7LCE6A|     106182406| 2015-08-31|\n",
            "|R1W5OMFK1Q3I3O|   10956619|B00HRJMOM4|     162269768| 2015-08-31|\n",
            "| RPZWSYWRP92GI|   13132245|B00P31G9PQ|     831433899| 2015-08-31|\n",
            "|R2WQWM04XHD9US|   35717248|B00FGDEPDY|     991059534| 2015-08-31|\n",
            "|R1WSPK2RA2PDEF|   17710652|B00FZ0FK0U|     574904556| 2015-08-31|\n",
            "|R11JVGRZRHTDAS|   42392705|B004KPKSRQ|     306022575| 2015-08-31|\n",
            "|R2B8468OKXXYE2|   52845868|B00B1TFNTW|      54873662| 2015-08-31|\n",
            "|R2HGGCCZSSNUCB|   15696503|B00M9GTJLY|     103182180| 2015-08-31|\n",
            "| REEE4LHSVPRV9|    9723928|B00H9A60O4|     608720080| 2015-08-31|\n",
            "|R25OMUUILFFHI9|   23522877|B008XAXAC4|      87969525| 2015-08-31|\n",
            "|R2966PB8UBD5BM|   17022093|B00MHZ6Z64|     249773946| 2015-08-31|\n",
            "|R1OU91L2G5H6H1|   11635690|B00OPCQ70Q|     956532818| 2015-08-31|\n",
            "|R3M6YQVMXWGTR6|   50349059|B00MHZ71G2|       8655796| 2015-08-31|\n",
            "|R2M8VZGO4BFN9J|     450121|B00O8J0W6G|       7338419| 2015-08-31|\n",
            "|R3UH0MJKIJ4VLP|    2320642|B00NMPZCH6|     985055699| 2015-08-31|\n",
            "|R3E906WYGZVKWO|   16089737|B012P5SJNC|     490456974| 2015-08-31|\n",
            "|R1Z3N8UA5YQOV2|   14082044|B00V9ZPIXY|      57097904| 2015-08-31|\n",
            "|R2VH10XSOR1QHF|   18246272|B00LU2XHAC|     962800663| 2015-08-31|\n",
            "|R1KCPJ8UASZESF|   31837971|B0068TJOSQ|     154476766| 2015-08-31|\n",
            "| RWTF87EKV4DYO|   12631500|B00SGYWM80|     780881648| 2015-08-31|\n",
            "+--------------+-----------+----------+--------------+-----------+\n",
            "only showing top 20 rows\n",
            "\n"
          ],
          "name": "stdout"
        }
      ]
    },
    {
      "cell_type": "code",
      "metadata": {
        "id": "lzMmkdKmY--D",
        "colab": {
          "base_uri": "https://localhost:8080/"
        },
        "outputId": "49ffe119-db85-4794-c57d-644995c36281"
      },
      "source": [
        "# Create the vine_table. DataFrame\n",
        "vine_df = df.select([\"review_id\",\"star_rating\",\"helpful_votes\",\"total_votes\",\"vine\",\"verified_purchase\"])\n",
        "vine_df.show()"
      ],
      "execution_count": 29,
      "outputs": [
        {
          "output_type": "stream",
          "text": [
            "+--------------+-----------+-------------+-----------+----+-----------------+\n",
            "|     review_id|star_rating|helpful_votes|total_votes|vine|verified_purchase|\n",
            "+--------------+-----------+-------------+-----------+----+-----------------+\n",
            "|R2EI7QLPK4LF7U|          4|            0|          0|   N|                Y|\n",
            "|R1W5OMFK1Q3I3O|          3|            0|          0|   N|                Y|\n",
            "| RPZWSYWRP92GI|          1|            1|          2|   N|                Y|\n",
            "|R2WQWM04XHD9US|          5|            0|          0|   N|                Y|\n",
            "|R1WSPK2RA2PDEF|          4|            1|          2|   N|                Y|\n",
            "|R11JVGRZRHTDAS|          5|            4|          4|   N|                N|\n",
            "|R2B8468OKXXYE2|          1|            1|          1|   N|                N|\n",
            "|R2HGGCCZSSNUCB|          1|            0|          0|   N|                Y|\n",
            "| REEE4LHSVPRV9|          1|            0|          0|   N|                Y|\n",
            "|R25OMUUILFFHI9|          5|            0|          0|   N|                Y|\n",
            "|R2966PB8UBD5BM|          5|            0|          0|   N|                Y|\n",
            "|R1OU91L2G5H6H1|          1|            0|          2|   N|                Y|\n",
            "|R3M6YQVMXWGTR6|          5|            0|          0|   N|                Y|\n",
            "|R2M8VZGO4BFN9J|          1|            0|          1|   N|                Y|\n",
            "|R3UH0MJKIJ4VLP|          3|            2|          3|   N|                Y|\n",
            "|R3E906WYGZVKWO|          1|            2|          2|   N|                Y|\n",
            "|R1Z3N8UA5YQOV2|          2|            0|          0|   N|                Y|\n",
            "|R2VH10XSOR1QHF|          5|            0|          0|   N|                Y|\n",
            "|R1KCPJ8UASZESF|          5|            0|          0|   N|                Y|\n",
            "| RWTF87EKV4DYO|          3|            0|          0|   N|                Y|\n",
            "+--------------+-----------+-------------+-----------+----+-----------------+\n",
            "only showing top 20 rows\n",
            "\n"
          ],
          "name": "stdout"
        }
      ]
    },
    {
      "cell_type": "markdown",
      "metadata": {
        "id": "jITZhLkmY--J"
      },
      "source": [
        "### Connect to the AWS RDS instance and write each DataFrame to its table. "
      ]
    },
    {
      "cell_type": "code",
      "metadata": {
        "id": "7jiUvs1aY--L"
      },
      "source": [
        "# Configure settings for RDS\n",
        "mode = \"append\"\n",
        "jdbc_url=\"jdbc:postgresql://amazon-reviews.cqbubfa9glpd.us-east-2.rds.amazonaws.com:5432/Amazon Reviews\"\n",
        "config = {\"user\":\"postgres\", \n",
        "          \"password\": \"#####\", \n",
        "          \"driver\":\"org.postgresql.Driver\"}"
      ],
      "execution_count": 35,
      "outputs": []
    },
    {
      "cell_type": "code",
      "metadata": {
        "id": "T2zgZ-aKY--Q"
      },
      "source": [
        "# Write review_id_df to table in RDS\n",
        "review_id_df.write.jdbc(url=jdbc_url, table='review_id_table', mode=mode, properties=config)"
      ],
      "execution_count": 36,
      "outputs": []
    },
    {
      "cell_type": "code",
      "metadata": {
        "id": "1m3yzn-LY--U"
      },
      "source": [
        "# Write products_df to table in RDS\n",
        "# about 3 min\n",
        "products_df.write.jdbc(url=jdbc_url, table='products_table', mode=mode, properties=config)"
      ],
      "execution_count": 37,
      "outputs": []
    },
    {
      "cell_type": "code",
      "metadata": {
        "id": "KbXri15fY--Z"
      },
      "source": [
        "# Write customers_df to table in RDS\n",
        "# 5 min 14 s\n",
        "customers_df.write.jdbc(url=jdbc_url, table='customers_table', mode=mode, properties=config)"
      ],
      "execution_count": 38,
      "outputs": []
    },
    {
      "cell_type": "code",
      "metadata": {
        "id": "XdQknSHLY--e"
      },
      "source": [
        "# Write vine_df to table in RDS\n",
        "# 11 minutes\n",
        "vine_df.write.jdbc(url=jdbc_url, table='vine_table', mode=mode, properties=config)"
      ],
      "execution_count": 39,
      "outputs": []
    },
    {
      "cell_type": "code",
      "metadata": {
        "id": "Exuo6ebUsCqW"
      },
      "source": [
        ""
      ],
      "execution_count": null,
      "outputs": []
    }
  ]
}
